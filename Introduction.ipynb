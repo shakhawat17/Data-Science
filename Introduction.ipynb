{
  "nbformat": 4,
  "nbformat_minor": 0,
  "metadata": {
    "colab": {
      "provenance": [],
      "toc_visible": true,
      "authorship_tag": "ABX9TyOSrmqAIz8LIQyUUawstl79",
      "include_colab_link": true
    },
    "kernelspec": {
      "name": "python3",
      "display_name": "Python 3"
    },
    "language_info": {
      "name": "python"
    }
  },
  "cells": [
    {
      "cell_type": "markdown",
      "metadata": {
        "id": "view-in-github",
        "colab_type": "text"
      },
      "source": [
        "<a href=\"https://colab.research.google.com/github/shakhawat17/Data-Science/blob/main/Introduction.ipynb\" target=\"_parent\"><img src=\"https://colab.research.google.com/assets/colab-badge.svg\" alt=\"Open In Colab\"/></a>"
      ]
    },
    {
      "cell_type": "code",
      "execution_count": 1,
      "metadata": {
        "colab": {
          "base_uri": "https://localhost:8080/"
        },
        "id": "lJf9RKDjHhUB",
        "outputId": "b9b7e989-5545-422c-b6dc-fc61c827e13c"
      },
      "outputs": [
        {
          "output_type": "stream",
          "name": "stdout",
          "text": [
            "Welcome to Skill Morph!!\n"
          ]
        }
      ],
      "source": [
        "print('Welcome to Skill Morph!!')"
      ]
    },
    {
      "cell_type": "code",
      "source": [
        "23 + 45\n"
      ],
      "metadata": {
        "colab": {
          "base_uri": "https://localhost:8080/"
        },
        "id": "8miNbuAFIKa4",
        "outputId": "eeb6db10-7430-48b4-8a2c-fbc8741c50e0"
      },
      "execution_count": 2,
      "outputs": [
        {
          "output_type": "execute_result",
          "data": {
            "text/plain": [
              "68"
            ]
          },
          "metadata": {},
          "execution_count": 2
        }
      ]
    },
    {
      "cell_type": "markdown",
      "source": [
        "# **Chapter 1**"
      ],
      "metadata": {
        "id": "rFdYKSpnITfB"
      }
    },
    {
      "cell_type": "markdown",
      "source": [
        "## **Sub Chapter 1**"
      ],
      "metadata": {
        "id": "gB02o9dNIrt4"
      }
    },
    {
      "cell_type": "code",
      "source": [],
      "metadata": {
        "id": "wlLDF0YfJJ-e"
      },
      "execution_count": null,
      "outputs": []
    }
  ]
}