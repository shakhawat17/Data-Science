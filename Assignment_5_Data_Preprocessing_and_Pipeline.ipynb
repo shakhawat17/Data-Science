{
  "nbformat": 4,
  "nbformat_minor": 0,
  "metadata": {
    "colab": {
      "provenance": [],
      "include_colab_link": true
    },
    "kernelspec": {
      "name": "python3",
      "display_name": "Python 3"
    },
    "language_info": {
      "name": "python"
    }
  },
  "cells": [
    {
      "cell_type": "markdown",
      "metadata": {
        "id": "view-in-github",
        "colab_type": "text"
      },
      "source": [
        "<a href=\"https://colab.research.google.com/github/shakhawat17/Data-Science/blob/main/Assignment_5_Data_Preprocessing_and_Pipeline.ipynb\" target=\"_parent\"><img src=\"https://colab.research.google.com/assets/colab-badge.svg\" alt=\"Open In Colab\"/></a>"
      ]
    },
    {
      "cell_type": "code",
      "execution_count": 144,
      "metadata": {
        "id": "kxzHrZ-S1J5-",
        "colab": {
          "base_uri": "https://localhost:8080/"
        },
        "outputId": "01e53024-1d03-4878-fff1-f840d1e0fd04"
      },
      "outputs": [
        {
          "output_type": "stream",
          "name": "stdout",
          "text": [
            "Number of houses: ___\n"
          ]
        }
      ],
      "source": [
        "#Load the Data\n",
        "import pandas as pd\n",
        "import numpy as np\n",
        "from sklearn.model_selection import train_test_split\n",
        "from sklearn.preprocessing import StandardScaler\n",
        "\n",
        "# TODO: Load the housing data\n",
        "df = pd.read_csv('Housing.csv')\n",
        "\n",
        "# TODO: How many houses are there?\n",
        "print(f\"Number of houses: ___\")  # Fill this\n",
        "\n",
        "# TODO: Show first 3 houses\n",
        "# Your code here"
      ]
    },
    {
      "cell_type": "markdown",
      "source": [
        "# --- Step 1: Import necessary libraries ---"
      ],
      "metadata": {
        "id": "NnMM-WRgAfk6"
      }
    },
    {
      "cell_type": "code",
      "source": [
        "import pandas as pd\n",
        "import numpy as np\n",
        "from sklearn.model_selection import train_test_split\n",
        "from sklearn.preprocessing import StandardScaler"
      ],
      "metadata": {
        "id": "4KZZ8Z6rAjDZ"
      },
      "execution_count": 145,
      "outputs": []
    },
    {
      "cell_type": "markdown",
      "source": [
        "#--- Step 2: Load the housing data ---"
      ],
      "metadata": {
        "id": "J0kGrzuUAs_q"
      }
    },
    {
      "cell_type": "code",
      "source": [
        "from google.colab import files"
      ],
      "metadata": {
        "id": "yjMqzMXdBSH0"
      },
      "execution_count": 146,
      "outputs": []
    },
    {
      "cell_type": "code",
      "source": [
        "uploaded = files.upload()"
      ],
      "metadata": {
        "colab": {
          "base_uri": "https://localhost:8080/",
          "height": 38
        },
        "id": "P9WrkIy0BVLI",
        "outputId": "6182bf7d-51e2-4b86-8744-0b7bb050c945"
      },
      "execution_count": null,
      "outputs": [
        {
          "output_type": "display_data",
          "data": {
            "text/plain": [
              "<IPython.core.display.HTML object>"
            ],
            "text/html": [
              "\n",
              "     <input type=\"file\" id=\"files-28fa04ac-18fb-409c-b3bf-686531faba86\" name=\"files[]\" multiple disabled\n",
              "        style=\"border:none\" />\n",
              "     <output id=\"result-28fa04ac-18fb-409c-b3bf-686531faba86\">\n",
              "      Upload widget is only available when the cell has been executed in the\n",
              "      current browser session. Please rerun this cell to enable.\n",
              "      </output>\n",
              "      <script>// Copyright 2017 Google LLC\n",
              "//\n",
              "// Licensed under the Apache License, Version 2.0 (the \"License\");\n",
              "// you may not use this file except in compliance with the License.\n",
              "// You may obtain a copy of the License at\n",
              "//\n",
              "//      http://www.apache.org/licenses/LICENSE-2.0\n",
              "//\n",
              "// Unless required by applicable law or agreed to in writing, software\n",
              "// distributed under the License is distributed on an \"AS IS\" BASIS,\n",
              "// WITHOUT WARRANTIES OR CONDITIONS OF ANY KIND, either express or implied.\n",
              "// See the License for the specific language governing permissions and\n",
              "// limitations under the License.\n",
              "\n",
              "/**\n",
              " * @fileoverview Helpers for google.colab Python module.\n",
              " */\n",
              "(function(scope) {\n",
              "function span(text, styleAttributes = {}) {\n",
              "  const element = document.createElement('span');\n",
              "  element.textContent = text;\n",
              "  for (const key of Object.keys(styleAttributes)) {\n",
              "    element.style[key] = styleAttributes[key];\n",
              "  }\n",
              "  return element;\n",
              "}\n",
              "\n",
              "// Max number of bytes which will be uploaded at a time.\n",
              "const MAX_PAYLOAD_SIZE = 100 * 1024;\n",
              "\n",
              "function _uploadFiles(inputId, outputId) {\n",
              "  const steps = uploadFilesStep(inputId, outputId);\n",
              "  const outputElement = document.getElementById(outputId);\n",
              "  // Cache steps on the outputElement to make it available for the next call\n",
              "  // to uploadFilesContinue from Python.\n",
              "  outputElement.steps = steps;\n",
              "\n",
              "  return _uploadFilesContinue(outputId);\n",
              "}\n",
              "\n",
              "// This is roughly an async generator (not supported in the browser yet),\n",
              "// where there are multiple asynchronous steps and the Python side is going\n",
              "// to poll for completion of each step.\n",
              "// This uses a Promise to block the python side on completion of each step,\n",
              "// then passes the result of the previous step as the input to the next step.\n",
              "function _uploadFilesContinue(outputId) {\n",
              "  const outputElement = document.getElementById(outputId);\n",
              "  const steps = outputElement.steps;\n",
              "\n",
              "  const next = steps.next(outputElement.lastPromiseValue);\n",
              "  return Promise.resolve(next.value.promise).then((value) => {\n",
              "    // Cache the last promise value to make it available to the next\n",
              "    // step of the generator.\n",
              "    outputElement.lastPromiseValue = value;\n",
              "    return next.value.response;\n",
              "  });\n",
              "}\n",
              "\n",
              "/**\n",
              " * Generator function which is called between each async step of the upload\n",
              " * process.\n",
              " * @param {string} inputId Element ID of the input file picker element.\n",
              " * @param {string} outputId Element ID of the output display.\n",
              " * @return {!Iterable<!Object>} Iterable of next steps.\n",
              " */\n",
              "function* uploadFilesStep(inputId, outputId) {\n",
              "  const inputElement = document.getElementById(inputId);\n",
              "  inputElement.disabled = false;\n",
              "\n",
              "  const outputElement = document.getElementById(outputId);\n",
              "  outputElement.innerHTML = '';\n",
              "\n",
              "  const pickedPromise = new Promise((resolve) => {\n",
              "    inputElement.addEventListener('change', (e) => {\n",
              "      resolve(e.target.files);\n",
              "    });\n",
              "  });\n",
              "\n",
              "  const cancel = document.createElement('button');\n",
              "  inputElement.parentElement.appendChild(cancel);\n",
              "  cancel.textContent = 'Cancel upload';\n",
              "  const cancelPromise = new Promise((resolve) => {\n",
              "    cancel.onclick = () => {\n",
              "      resolve(null);\n",
              "    };\n",
              "  });\n",
              "\n",
              "  // Wait for the user to pick the files.\n",
              "  const files = yield {\n",
              "    promise: Promise.race([pickedPromise, cancelPromise]),\n",
              "    response: {\n",
              "      action: 'starting',\n",
              "    }\n",
              "  };\n",
              "\n",
              "  cancel.remove();\n",
              "\n",
              "  // Disable the input element since further picks are not allowed.\n",
              "  inputElement.disabled = true;\n",
              "\n",
              "  if (!files) {\n",
              "    return {\n",
              "      response: {\n",
              "        action: 'complete',\n",
              "      }\n",
              "    };\n",
              "  }\n",
              "\n",
              "  for (const file of files) {\n",
              "    const li = document.createElement('li');\n",
              "    li.append(span(file.name, {fontWeight: 'bold'}));\n",
              "    li.append(span(\n",
              "        `(${file.type || 'n/a'}) - ${file.size} bytes, ` +\n",
              "        `last modified: ${\n",
              "            file.lastModifiedDate ? file.lastModifiedDate.toLocaleDateString() :\n",
              "                                    'n/a'} - `));\n",
              "    const percent = span('0% done');\n",
              "    li.appendChild(percent);\n",
              "\n",
              "    outputElement.appendChild(li);\n",
              "\n",
              "    const fileDataPromise = new Promise((resolve) => {\n",
              "      const reader = new FileReader();\n",
              "      reader.onload = (e) => {\n",
              "        resolve(e.target.result);\n",
              "      };\n",
              "      reader.readAsArrayBuffer(file);\n",
              "    });\n",
              "    // Wait for the data to be ready.\n",
              "    let fileData = yield {\n",
              "      promise: fileDataPromise,\n",
              "      response: {\n",
              "        action: 'continue',\n",
              "      }\n",
              "    };\n",
              "\n",
              "    // Use a chunked sending to avoid message size limits. See b/62115660.\n",
              "    let position = 0;\n",
              "    do {\n",
              "      const length = Math.min(fileData.byteLength - position, MAX_PAYLOAD_SIZE);\n",
              "      const chunk = new Uint8Array(fileData, position, length);\n",
              "      position += length;\n",
              "\n",
              "      const base64 = btoa(String.fromCharCode.apply(null, chunk));\n",
              "      yield {\n",
              "        response: {\n",
              "          action: 'append',\n",
              "          file: file.name,\n",
              "          data: base64,\n",
              "        },\n",
              "      };\n",
              "\n",
              "      let percentDone = fileData.byteLength === 0 ?\n",
              "          100 :\n",
              "          Math.round((position / fileData.byteLength) * 100);\n",
              "      percent.textContent = `${percentDone}% done`;\n",
              "\n",
              "    } while (position < fileData.byteLength);\n",
              "  }\n",
              "\n",
              "  // All done.\n",
              "  yield {\n",
              "    response: {\n",
              "      action: 'complete',\n",
              "    }\n",
              "  };\n",
              "}\n",
              "\n",
              "scope.google = scope.google || {};\n",
              "scope.google.colab = scope.google.colab || {};\n",
              "scope.google.colab._files = {\n",
              "  _uploadFiles,\n",
              "  _uploadFilesContinue,\n",
              "};\n",
              "})(self);\n",
              "</script> "
            ]
          },
          "metadata": {}
        }
      ]
    },
    {
      "cell_type": "code",
      "source": [
        "df = pd.read_csv('Housing.csv')\n",
        "\n",
        "# Convert Yes/No columns to 1/0 right after loading the data\n",
        "yes_no_cols = ['mainroad', 'guestroom', 'basement', 'hotwaterheating', 'airconditioning', 'prefarea']\n",
        "\n",
        "for col in yes_no_cols:\n",
        "    # Use np.where for a more robust conversion that handles potential non-'yes'/'no' values\n",
        "    df[col] = np.where(df[col] == 'yes', 1, 0)"
      ],
      "metadata": {
        "id": "WJ9hiq3kBfXV"
      },
      "execution_count": null,
      "outputs": []
    },
    {
      "cell_type": "markdown",
      "source": [
        "# --- Step 3: How many houses are there? ---"
      ],
      "metadata": {
        "id": "UMF9A-7eBneY"
      }
    },
    {
      "cell_type": "code",
      "source": [
        "num_houses = df.shape[0]   # Number of rows = number of houses\n",
        "print(f\"Number of houses: {num_houses}\")"
      ],
      "metadata": {
        "id": "_ri226iuBqR7"
      },
      "execution_count": null,
      "outputs": []
    },
    {
      "cell_type": "markdown",
      "source": [
        "# --- Step 4: Show first 3 houses ---"
      ],
      "metadata": {
        "id": "EjONEkzWBugT"
      }
    },
    {
      "cell_type": "code",
      "source": [
        "print(\"\\nFirst 3 houses in the dataset:\")\n",
        "display(df.head(3))"
      ],
      "metadata": {
        "id": "dCuL_cLGBv3x"
      },
      "execution_count": null,
      "outputs": []
    },
    {
      "cell_type": "code",
      "source": [
        "# Look at Columns\n",
        "# TODO: Show all column names\n",
        "print(\"Columns:\")\n",
        "# Your code here\n",
        "\n",
        "# TODO: Show data types of columns\n",
        "print(\"Data types:\")"
      ],
      "metadata": {
        "id": "jY6xciSB1fGX"
      },
      "execution_count": null,
      "outputs": []
    },
    {
      "cell_type": "markdown",
      "source": [
        "# --- Show all column names ---"
      ],
      "metadata": {
        "id": "5p7TkYoJCGkV"
      }
    },
    {
      "cell_type": "code",
      "source": [
        "print(\"Columns:\")\n",
        "print(df.columns.tolist())"
      ],
      "metadata": {
        "id": "4Vu6781JCHiu"
      },
      "execution_count": null,
      "outputs": []
    },
    {
      "cell_type": "markdown",
      "source": [
        "# --- Show data types of columns ---"
      ],
      "metadata": {
        "id": "CK7-bI27CKii"
      }
    },
    {
      "cell_type": "code",
      "source": [
        "print(\"\\nData types:\")\n",
        "print(df.dtypes)"
      ],
      "metadata": {
        "id": "G8K2w9upCM0L"
      },
      "execution_count": null,
      "outputs": []
    },
    {
      "cell_type": "code",
      "source": [
        "#Convert Yes/No to 1/0\n",
        "# Check what's in our data\n",
        "print(\"Current mainroad values:\", df['mainroad'].head())\n",
        "# Shows: yes, no, yes, yes, no\n",
        "\n",
        "# Models need numbers, not text!\n",
        "# We need: yes → 1, no → 0"
      ],
      "metadata": {
        "id": "MwB1ZgVl1plX"
      },
      "execution_count": null,
      "outputs": []
    },
    {
      "cell_type": "markdown",
      "source": [
        "# --- Convert Yes/No columns to 1/0 ---\n",
        "# Example with 'mainroad'"
      ],
      "metadata": {
        "id": "WNETpGN2CZ_9"
      }
    },
    {
      "cell_type": "code",
      "source": [
        "df['mainroad'] = df['mainroad'].map({'yes': 1, 'no': 0})"
      ],
      "metadata": {
        "id": "fy7oF3zqCc8P"
      },
      "execution_count": null,
      "outputs": []
    },
    {
      "cell_type": "markdown",
      "source": [
        "# --- Check the result ---"
      ],
      "metadata": {
        "id": "hTfvGyhJCia_"
      }
    },
    {
      "cell_type": "code",
      "source": [
        "print(\"Converted mainroad values:\", df['mainroad'].head())"
      ],
      "metadata": {
        "id": "V6jckWvQCjnY"
      },
      "execution_count": null,
      "outputs": []
    },
    {
      "cell_type": "code",
      "source": [
        "# Split into Train and Test\n",
        "# TODO: Split - 80% train, 20% test"
      ],
      "metadata": {
        "id": "CGWFD9Do1w2J"
      },
      "execution_count": null,
      "outputs": []
    },
    {
      "cell_type": "markdown",
      "source": [
        "# --- Step 1: Define features (X) and target (y) ---"
      ],
      "metadata": {
        "id": "Ylx82zxJC01u"
      }
    },
    {
      "cell_type": "markdown",
      "source": [
        "# Example: assume 'price' is the target variable"
      ],
      "metadata": {
        "id": "t1PznZhpC2VG"
      }
    },
    {
      "cell_type": "code",
      "source": [
        "X = df.drop('price', axis=1)\n",
        "y = df['price']"
      ],
      "metadata": {
        "id": "BYNw891RC5BZ"
      },
      "execution_count": null,
      "outputs": []
    },
    {
      "cell_type": "markdown",
      "source": [
        "# --- Step 2: Split into train & test (80% / 20%) ---"
      ],
      "metadata": {
        "id": "tyTzyqTUDC31"
      }
    },
    {
      "cell_type": "code",
      "source": [
        "X_train, X_test, y_train, y_test = train_test_split(\n",
        "    X, y, test_size=0.2, random_state=42\n",
        ")\n",
        "\n",
        "print(\"Train set size:\", X_train.shape[0])\n",
        "print(\"Test set size:\", X_test.shape[0])"
      ],
      "metadata": {
        "id": "8QlEs0kzDHR2"
      },
      "execution_count": null,
      "outputs": []
    },
    {
      "cell_type": "code",
      "source": [
        "#Apply StandardScaler\n",
        "# Area is huge (1650-13300), Bedrooms is small (1-6)!\n",
        "#Your Code here"
      ],
      "metadata": {
        "id": "ORsVWo8E18y1"
      },
      "execution_count": null,
      "outputs": []
    },
    {
      "cell_type": "markdown",
      "source": [
        "# --- Step 1: Initialize the scaler ---"
      ],
      "metadata": {
        "id": "ipkZ_WGCDTtg"
      }
    },
    {
      "cell_type": "code",
      "source": [
        "scaler = StandardScaler()"
      ],
      "metadata": {
        "id": "_XEntKqxDW2t"
      },
      "execution_count": null,
      "outputs": []
    },
    {
      "cell_type": "markdown",
      "source": [
        "# --- Step 2: Fit on training data & transform both train and test ---"
      ],
      "metadata": {
        "id": "NadK2RewDY6f"
      }
    },
    {
      "cell_type": "code",
      "source": [
        "X_train_scaled = X_train.copy()\n",
        "X_test_scaled = X_test.copy()"
      ],
      "metadata": {
        "id": "i5b68YjNDbwA"
      },
      "execution_count": null,
      "outputs": []
    },
    {
      "cell_type": "markdown",
      "source": [
        "# Assuming all columns except target are numeric and should be scaled"
      ],
      "metadata": {
        "id": "1AhenyXGDeAK"
      }
    },
    {
      "cell_type": "markdown",
      "source": [
        "# ----Quick look at data ---"
      ],
      "metadata": {
        "id": "qSJkT1uKEY4z"
      }
    },
    {
      "cell_type": "code",
      "source": [
        "print(f\"\\nNumber of houses: {df.shape[0]}\")\n",
        "print(\"\\nColumns:\")\n",
        "print(df.columns.tolist())\n",
        "print(\"\\nData types:\")\n",
        "print(df.dtypes)"
      ],
      "metadata": {
        "id": "7gMSOCS4ESD9"
      },
      "execution_count": null,
      "outputs": []
    },
    {
      "cell_type": "markdown",
      "source": [
        "# ---  Convert Yes/No columns to 1/0 ---"
      ],
      "metadata": {
        "id": "v-obsShWEfuj"
      }
    },
    {
      "cell_type": "code",
      "source": [
        "# This step is no longer needed as the conversion is done earlier\n",
        "# yes_no_cols = ['mainroad', 'guestroom', 'basement', 'hotwaterheating', 'airconditioning', 'prefarea']\n",
        "\n",
        "# for col in yes_no_cols:\n",
        "#     df[col] = df[col].map({'yes': 1, 'no': 0})"
      ],
      "metadata": {
        "id": "pyIf962BEiRT"
      },
      "execution_count": null,
      "outputs": []
    },
    {
      "cell_type": "markdown",
      "source": [
        "# Verify conversion"
      ],
      "metadata": {
        "id": "fY6wojddEouB"
      }
    },
    {
      "cell_type": "code",
      "source": [
        "print(\"\\nCheck conversions (first 5 rows):\")\n",
        "display(df[yes_no_cols].head())"
      ],
      "metadata": {
        "id": "8Fl0pEu3Ep76"
      },
      "execution_count": null,
      "outputs": []
    },
    {
      "cell_type": "markdown",
      "source": [
        "# --- Step 5: Split into features and target ---"
      ],
      "metadata": {
        "id": "NpvWlAixFOCk"
      }
    },
    {
      "cell_type": "code",
      "source": [
        "X = df.drop('price', axis=1)\n",
        "y = df['price']"
      ],
      "metadata": {
        "id": "KIVUb-hwFPr-"
      },
      "execution_count": null,
      "outputs": []
    },
    {
      "cell_type": "markdown",
      "source": [
        "# --- Step 6: Train-test split (80% train, 20% test) ---"
      ],
      "metadata": {
        "id": "MkLGqNbNFW9V"
      }
    },
    {
      "cell_type": "code",
      "source": [
        "X_train, X_test, y_train, y_test = train_test_split(\n",
        "    X, y, test_size=0.2, random_state=42\n",
        ")\n",
        "print(f\"\\nTrain set size: {X_train.shape[0]}\")\n",
        "print(f\"Test set size: {X_test.shape[0]}\")"
      ],
      "metadata": {
        "id": "m2PnWUzzFYEp"
      },
      "execution_count": null,
      "outputs": []
    },
    {
      "cell_type": "markdown",
      "source": [
        "# --- Step 7: Scale numeric features ---"
      ],
      "metadata": {
        "id": "NjrC7qTeFdtY"
      }
    },
    {
      "cell_type": "code",
      "source": [
        "scaler = StandardScaler()"
      ],
      "metadata": {
        "id": "EQkVOoPuFeuj"
      },
      "execution_count": null,
      "outputs": []
    },
    {
      "cell_type": "markdown",
      "source": [
        "# All columns in X are numeric after conversion"
      ],
      "metadata": {
        "id": "83v4PRwkF2K1"
      }
    },
    {
      "cell_type": "code",
      "source": [
        "scaler = StandardScaler()\n",
        "# Exclude 'furnishingstatus' from numeric columns for scaling\n",
        "numeric_cols = X_train.select_dtypes(include=np.number).columns.tolist()\n",
        "numeric_cols.remove('mainroad') # mainroad is already converted to 1/0"
      ],
      "metadata": {
        "id": "rT9Z-GjCGjkx"
      },
      "execution_count": null,
      "outputs": []
    },
    {
      "cell_type": "code",
      "source": [
        "X_train_scaled = X_train.copy()\n",
        "X_test_scaled = X_test.copy()"
      ],
      "metadata": {
        "id": "JRn24vJWGoKX"
      },
      "execution_count": null,
      "outputs": []
    },
    {
      "cell_type": "code",
      "source": [
        "# Apply scaling only to numeric columns (excluding 'furnishingstatus' and 'mainroad')\n",
        "X_train_scaled[numeric_cols] = scaler.fit_transform(X_train[numeric_cols])\n",
        "X_test_scaled[numeric_cols] = scaler.transform(X_test[numeric_cols])\n",
        "\n",
        "print(\"\\nScaled training features (first 5 rows):\")\n",
        "display(pd.DataFrame(X_train_scaled, columns=X_train.columns).head()) # Display all columns for context"
      ],
      "metadata": {
        "id": "l8rRGkcyGpSF"
      },
      "execution_count": null,
      "outputs": []
    },
    {
      "cell_type": "code",
      "source": [
        "#train and test model\n",
        "#your code here"
      ],
      "metadata": {
        "id": "khBlvU-f2QnW"
      },
      "execution_count": null,
      "outputs": []
    },
    {
      "cell_type": "markdown",
      "source": [
        "# --- Step 0: Upload CSV ---"
      ],
      "metadata": {
        "id": "TSuwTIqdTjJm"
      }
    },
    {
      "cell_type": "code",
      "source": [
        "from google.colab import files\n",
        "uploaded = files.upload()"
      ],
      "metadata": {
        "id": "FdJRDUfWTkdr"
      },
      "execution_count": null,
      "outputs": []
    },
    {
      "cell_type": "markdown",
      "source": [
        "# --- Step 1: Import libraries ---"
      ],
      "metadata": {
        "id": "MPYbDcRtTsVT"
      }
    },
    {
      "cell_type": "code",
      "source": [
        "import pandas as pd\n",
        "from sklearn.model_selection import train_test_split\n",
        "from sklearn.preprocessing import StandardScaler, OneHotEncoder\n",
        "from sklearn.impute import SimpleImputer\n",
        "from sklearn.compose import ColumnTransformer\n",
        "from sklearn.pipeline import Pipeline\n",
        "from sklearn.linear_model import LinearRegression\n",
        "from sklearn.metrics import mean_squared_error, r2_score\n",
        "import matplotlib.pyplot as plt"
      ],
      "metadata": {
        "id": "fqE0CJR1Ttb9"
      },
      "execution_count": null,
      "outputs": []
    },
    {
      "cell_type": "markdown",
      "source": [
        "# --- Step 2: Load dataset ---"
      ],
      "metadata": {
        "id": "PcmqScs5TwQ8"
      }
    },
    {
      "cell_type": "code",
      "source": [
        "df = pd.read_csv(\"Housing.csv\")\n",
        "print(\"✅ File loaded successfully!\")"
      ],
      "metadata": {
        "id": "fLitBdJaTyef"
      },
      "execution_count": null,
      "outputs": []
    },
    {
      "cell_type": "markdown",
      "source": [
        "# --- Step 3: Quick look at data ---"
      ],
      "metadata": {
        "id": "EJC9ki_WT03t"
      }
    },
    {
      "cell_type": "code",
      "source": [
        "print(f\"\\nNumber of houses: {df.shape[0]}\")\n",
        "print(\"\\nColumns:\")\n",
        "print(df.columns.tolist())\n",
        "print(\"\\nData types:\")\n",
        "print(df.dtypes)\n"
      ],
      "metadata": {
        "id": "1-fW7iayT3EB"
      },
      "execution_count": null,
      "outputs": []
    },
    {
      "cell_type": "markdown",
      "source": [
        "# --- Step 4: Convert Yes/No columns to 1/0 ---"
      ],
      "metadata": {
        "id": "hsX2CjSaT7Fj"
      }
    },
    {
      "cell_type": "code",
      "source": [
        "yes_no_cols = ['mainroad', 'guestroom', 'basement', 'hotwaterheating', 'airconditioning', 'prefarea']\n",
        "for col in yes_no_cols:\n",
        "    df[col] = df[col].map({'yes': 1, 'no': 0})\n"
      ],
      "metadata": {
        "id": "x0nQtQinT8FP"
      },
      "execution_count": null,
      "outputs": []
    },
    {
      "cell_type": "markdown",
      "source": [
        "# --- Step 5: Split into features and target ---"
      ],
      "metadata": {
        "id": "6PVzbmLxUBU5"
      }
    },
    {
      "cell_type": "code",
      "source": [
        "X = df.drop('price', axis=1)\n",
        "y = df['price']"
      ],
      "metadata": {
        "id": "KyLDuPCJUCjv"
      },
      "execution_count": null,
      "outputs": []
    },
    {
      "cell_type": "markdown",
      "source": [
        "# --- Step 6b: Reset index to avoid KeyErrors ---"
      ],
      "metadata": {
        "id": "dQiVQRROUEvS"
      }
    },
    {
      "cell_type": "code",
      "source": [
        "X_train = X_train.reset_index(drop=True)\n",
        "X_test = X_test.reset_index(drop=True)\n",
        "y_train = y_train.reset_index(drop=True)\n",
        "y_test = y_test.reset_index(drop=True)\n"
      ],
      "metadata": {
        "id": "zquo4IIGUHB1"
      },
      "execution_count": null,
      "outputs": []
    },
    {
      "cell_type": "markdown",
      "source": [
        "# --- Step 7: Identify columns for preprocessing ---"
      ],
      "metadata": {
        "id": "jup8LwSUUL-w"
      }
    },
    {
      "cell_type": "code",
      "source": [
        "categorical_features = ['furnishingstatus']\n",
        "binary_features = yes_no_cols\n",
        "numeric_features = [col for col in X_train.columns if col not in categorical_features + binary_features]\n"
      ],
      "metadata": {
        "id": "0b3twL3zUNAK"
      },
      "execution_count": null,
      "outputs": []
    },
    {
      "cell_type": "markdown",
      "source": [
        "# --- Step 8: Fill missing values in binary columns ---"
      ],
      "metadata": {
        "id": "IC5SyxgaVuvq"
      }
    },
    {
      "cell_type": "code",
      "source": [
        "for col in binary_features:\n",
        "    train_mode = X_train[col].mode()\n",
        "    test_mode = X_test[col].mode()\n",
        "\n",
        "    if not train_mode.empty:\n",
        "        X_train[col].fillna(train_mode[0], inplace=True)\n",
        "    else:\n",
        "        print(f\"⚠️ No mode found for column '{col}' in training data.\")\n",
        "\n",
        "    if not test_mode.empty:\n",
        "        X_test[col].fillna(test_mode[0], inplace=True)\n",
        "    else:\n",
        "        print(f\"⚠️ No mode found for column '{col}' in test data.\")\n",
        "\n",
        "\n",
        "\n"
      ],
      "metadata": {
        "id": "xU_ClJeYXaA9"
      },
      "execution_count": null,
      "outputs": []
    },
    {
      "cell_type": "markdown",
      "source": [
        "# --- Step 8: Define transformers with imputers ---"
      ],
      "metadata": {
        "id": "WDeZ5vgrUSKe"
      }
    },
    {
      "cell_type": "code",
      "source": [
        "numeric_transformer = Pipeline(steps=[\n",
        "    ('imputer', SimpleImputer(strategy='mean')),\n",
        "    ('scaler', StandardScaler())\n",
        "])\n",
        "categorical_transformer = Pipeline(steps=[\n",
        "    ('imputer', SimpleImputer(strategy='most_frequent')),\n",
        "    ('onehot', OneHotEncoder(handle_unknown='ignore'))\n",
        "])\n",
        "\n"
      ],
      "metadata": {
        "id": "obgGkgVFUTJP"
      },
      "execution_count": null,
      "outputs": []
    },
    {
      "cell_type": "markdown",
      "source": [
        "# --- Step 9: Define transformers for numeric and categorical columns ---"
      ],
      "metadata": {
        "id": "-dPUQTvCUff_"
      }
    },
    {
      "cell_type": "code",
      "source": [
        "numeric_transformer = Pipeline(steps=[\n",
        "    ('imputer', SimpleImputer(strategy='mean')),\n",
        "    ('scaler', StandardScaler())\n",
        "])\n",
        "\n",
        "categorical_transformer = Pipeline(steps=[\n",
        "    ('imputer', SimpleImputer(strategy='most_frequent')),\n",
        "    ('onehot', OneHotEncoder(handle_unknown='ignore'))\n",
        "])"
      ],
      "metadata": {
        "id": "htiBM-96Ugbn"
      },
      "execution_count": null,
      "outputs": []
    },
    {
      "cell_type": "markdown",
      "source": [
        "# --- Step 10: Column transformer ---"
      ],
      "metadata": {
        "id": "xYIETTuSUi-2"
      }
    },
    {
      "cell_type": "code",
      "source": [
        "preprocessor = ColumnTransformer(\n",
        "    transformers=[\n",
        "        ('num', numeric_transformer, numeric_features),\n",
        "        ('cat', categorical_transformer, categorical_features)\n",
        "    ],\n",
        "    remainder='passthrough'  # binary columns are already imputed\n",
        ")"
      ],
      "metadata": {
        "id": "SRmxtgjuUmE6"
      },
      "execution_count": null,
      "outputs": []
    },
    {
      "cell_type": "markdown",
      "source": [
        "# --- Step 11: Apply preprocessing ---"
      ],
      "metadata": {
        "id": "VisY5wmSXtfj"
      }
    },
    {
      "cell_type": "code",
      "source": [
        "X_train_processed = preprocessor.fit_transform(X_train)\n",
        "X_test_processed = preprocessor.transform(X_test)\n"
      ],
      "metadata": {
        "id": "-Kg865URXwFp"
      },
      "execution_count": null,
      "outputs": []
    },
    {
      "cell_type": "markdown",
      "source": [
        "# --- Step 12: Train Linear Regression model ---"
      ],
      "metadata": {
        "id": "rbdB96XMXypS"
      }
    },
    {
      "cell_type": "code",
      "source": [
        "import numpy as np\n",
        "\n",
        "print(\"✅ Checking for NaNs in processed training data...\")\n",
        "print(\"NaNs in X_train_processed:\", np.isnan(X_train_processed).sum())\n",
        "\n"
      ],
      "metadata": {
        "id": "u7twqdwIXznE"
      },
      "execution_count": null,
      "outputs": []
    },
    {
      "cell_type": "code",
      "source": [
        "binary_transformer = Pipeline(steps=[\n",
        "    ('imputer', SimpleImputer(strategy='most_frequent'))\n",
        "])\n",
        "\n",
        "preprocessor = ColumnTransformer(\n",
        "    transformers=[\n",
        "        ('num', numeric_transformer, numeric_features),\n",
        "        ('cat', categorical_transformer, categorical_features),\n",
        "        ('bin', binary_transformer, binary_features)\n",
        "    ]\n",
        ")\n",
        "\n"
      ],
      "metadata": {
        "id": "_RIje9gFaxrR"
      },
      "execution_count": null,
      "outputs": []
    },
    {
      "cell_type": "code",
      "source": [
        "X_train_processed = preprocessor.fit_transform(X_train)\n",
        "X_test_processed = preprocessor.transform(X_test)\n",
        "\n",
        "model = LinearRegression()\n",
        "model.fit(X_train_processed, y_train)\n",
        "print(\"✅ Model trained successfully!\")\n",
        "\n"
      ],
      "metadata": {
        "id": "id4iAQ9-a46b"
      },
      "execution_count": null,
      "outputs": []
    },
    {
      "cell_type": "markdown",
      "source": [
        "# --- Step 13: Evaluate model ---"
      ],
      "metadata": {
        "id": "QrZajHl-UzzT"
      }
    },
    {
      "cell_type": "code",
      "source": [
        "y_train_pred = model.predict(X_train_processed)\n",
        "y_test_pred = model.predict(X_test_processed)\n",
        "\n",
        "train_mse = mean_squared_error(y_train, y_train_pred)\n",
        "train_r2 = r2_score(y_train, y_train_pred)\n",
        "test_mse = mean_squared_error(y_test, y_test_pred)\n",
        "test_r2 = r2_score(y_test, y_test_pred)\n",
        "\n",
        "print(f\"\\nTraining MSE: {train_mse:.2f}, R²: {train_r2:.2f}\")\n",
        "print(f\"Test MSE: {test_mse:.2f}, R²: {test_r2:.2f}\")\n"
      ],
      "metadata": {
        "id": "2uLvBM-bX8p7"
      },
      "execution_count": null,
      "outputs": []
    },
    {
      "cell_type": "markdown",
      "source": [
        "# --- Step 14: Visualize Actual vs Predicted Prices ---"
      ],
      "metadata": {
        "id": "PR_ASdkPYBXH"
      }
    },
    {
      "cell_type": "code",
      "source": [
        "plt.figure(figsize=(8,6))\n",
        "plt.scatter(y_test, y_test_pred, color='blue', alpha=0.6)\n",
        "plt.plot([y_test.min(), y_test.max()], [y_test.min(), y_test.max()], 'r--', linewidth=2)\n",
        "plt.xlabel('Actual Price')\n",
        "plt.ylabel('Predicted Price')\n",
        "plt.title('Actual vs Predicted House Prices')\n",
        "plt.show()\n"
      ],
      "metadata": {
        "id": "RQy-t3A9YCOW"
      },
      "execution_count": null,
      "outputs": []
    },
    {
      "cell_type": "markdown",
      "source": [
        "# ---Predict a new house price ---"
      ],
      "metadata": {
        "id": "PUdnu4r1YF7G"
      }
    },
    {
      "cell_type": "markdown",
      "source": [
        "# New house details:\n",
        "# area=5000, bedrooms=3, bathrooms=2, stories=2,\n",
        "# mainroad=yes, guestroom=no, basement=yes,\n",
        "# hotwaterheating=no, airconditioning=yes,\n",
        "# parking=2, prefarea=yes, furnishingstatus=furnished\n",
        "#your code here"
      ],
      "metadata": {
        "id": "8qmF_oubbMta"
      }
    },
    {
      "cell_type": "code",
      "source": [
        "# Transform the new house data using the fitted preprocessor\n",
        "new_house_processed = preprocessor.transform(new_house_df)\n",
        "\n",
        "# Predict the price\n",
        "predicted_price = model.predict(new_house_processed)\n",
        "\n",
        "print(f\"\\nPredicted price of the new house: ${predicted_price[0]:,.2f}\")"
      ],
      "metadata": {
        "id": "CJ000jqoYITt"
      },
      "execution_count": null,
      "outputs": []
    },
    {
      "cell_type": "code",
      "metadata": {
        "id": "HMyJfxA6ME7q"
      },
      "source": [
        "new_house = {\n",
        "    'area': [5000],\n",
        "    'bedrooms': [3],\n",
        "    'bathrooms': [2],\n",
        "    'stories': [2],\n",
        "    'mainroad': [1],\n",
        "    'guestroom': [0],\n",
        "    'basement': [1],\n",
        "    'hotwaterheating': [0],\n",
        "    'airconditioning': [1],\n",
        "    'parking': [2],\n",
        "    'prefarea': [1],\n",
        "    'furnishingstatus': ['furnished'] # Include the original categorical column\n",
        "}"
      ],
      "execution_count": null,
      "outputs": []
    },
    {
      "cell_type": "code",
      "metadata": {
        "id": "ycQ-SAmYMYBX"
      },
      "source": [
        "new_house_df = pd.DataFrame(new_house)\n",
        "# Ensure the new house DataFrame has the same columns as the training data before preprocessing\n",
        "# The preprocessor will handle the column order and transformations\n",
        "new_house_df = new_house_df[X_train.columns]"
      ],
      "execution_count": null,
      "outputs": []
    }
  ]
}